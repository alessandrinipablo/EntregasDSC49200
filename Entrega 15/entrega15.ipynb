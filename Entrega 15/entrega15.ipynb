{
 "cells": [
  {
   "cell_type": "markdown",
   "metadata": {},
   "source": [
    "# Entrega Numero 14\n"
   ]
  },
  {
   "cell_type": "markdown",
   "metadata": {},
   "source": [
    "# Pre entrega del Proyecto Final"
   ]
  },
  {
   "cell_type": "markdown",
   "metadata": {},
   "source": [
    "* _i) Encoding._\n",
    "* _ii) Ingeniería de atributos._\n",
    "* _iii) Entrenamiento de un modelo de Machine Learning._"
   ]
  },
  {
   "cell_type": "markdown",
   "metadata": {},
   "source": [
    "# Problema/Situacion de Negocio: \n",
    "\n",
    "* _Se tiene como objetivo predecir el valor actual (conocido como pase del jugador de futbol)._\n",
    "\n",
    "* _Se elije el modelo de Random Forest ya que el jugador tiene varias caracteristicas, que pueden influir en el valor._"
   ]
  },
  {
   "cell_type": "code",
   "execution_count": 1,
   "metadata": {},
   "outputs": [],
   "source": [
    "import pandas as pd\n",
    "import numpy as np\n",
    "\n",
    "#  para la división de datos en conjuntos de entrenamiento y prueba\n",
    "from sklearn.model_selection import train_test_split\n",
    "\n",
    "#  codificación de características categóricas\n",
    "from sklearn.preprocessing import LabelEncoder\n",
    "\n",
    "# para escalado de características\n",
    "from sklearn.preprocessing import StandardScaler\n",
    "\n",
    "#  para entrenamiento del modelo de Random Forest\n",
    "from sklearn.ensemble import RandomForestRegressor\n",
    "\n",
    "#  para validación cruzada del modelo\n",
    "from sklearn.model_selection import cross_val_score\n",
    "\n",
    "# para evaluación del modelo\n",
    "from sklearn.metrics import r2_score\n",
    "\n",
    "#  para visualización de datos\n",
    "import matplotlib.pyplot as plt\n",
    "\n",
    "from sklearn.decomposition import PCA\n",
    "\n",
    "# importas mas modelos, para evaluaciones\n",
    "from sklearn.linear_model import LinearRegression\n",
    "from sklearn.tree import DecisionTreeRegressor\n"
   ]
  },
  {
   "cell_type": "markdown",
   "metadata": {},
   "source": [
    "# _Carga y Preparación de Datos._"
   ]
  },
  {
   "cell_type": "code",
   "execution_count": 2,
   "metadata": {},
   "outputs": [
    {
     "data": {
      "text/html": [
       "<div>\n",
       "<style scoped>\n",
       "    .dataframe tbody tr th:only-of-type {\n",
       "        vertical-align: middle;\n",
       "    }\n",
       "\n",
       "    .dataframe tbody tr th {\n",
       "        vertical-align: top;\n",
       "    }\n",
       "\n",
       "    .dataframe thead th {\n",
       "        text-align: right;\n",
       "    }\n",
       "</style>\n",
       "<table border=\"1\" class=\"dataframe\">\n",
       "  <thead>\n",
       "    <tr style=\"text-align: right;\">\n",
       "      <th></th>\n",
       "      <th>Equipo</th>\n",
       "      <th>Nombre</th>\n",
       "      <th>Posicion</th>\n",
       "      <th>Altura</th>\n",
       "      <th>Edad</th>\n",
       "      <th>Apariciones</th>\n",
       "      <th>Goles</th>\n",
       "      <th>Asistencias</th>\n",
       "      <th>Tarjetas Amarillas</th>\n",
       "      <th>2da Tarjeta Amarillas</th>\n",
       "      <th>...</th>\n",
       "      <th>Goles Concedidos</th>\n",
       "      <th>Valla Invicta</th>\n",
       "      <th>Minutos Jugados</th>\n",
       "      <th>Dias De baja por Lesion</th>\n",
       "      <th>Partidos Perdidos por Lesion</th>\n",
       "      <th>Premios</th>\n",
       "      <th>Valor Actual</th>\n",
       "      <th>Valor Maximo</th>\n",
       "      <th>Posicion Numero</th>\n",
       "      <th>Extremo</th>\n",
       "    </tr>\n",
       "  </thead>\n",
       "  <tbody>\n",
       "    <tr>\n",
       "      <th>0</th>\n",
       "      <td>Manchester United</td>\n",
       "      <td>David de Gea</td>\n",
       "      <td>Goalkeeper</td>\n",
       "      <td>189.0</td>\n",
       "      <td>32.0</td>\n",
       "      <td>104</td>\n",
       "      <td>0.0</td>\n",
       "      <td>0.0</td>\n",
       "      <td>0.009585</td>\n",
       "      <td>0.0</td>\n",
       "      <td>...</td>\n",
       "      <td>1.217252</td>\n",
       "      <td>0.335463</td>\n",
       "      <td>9390</td>\n",
       "      <td>42</td>\n",
       "      <td>5</td>\n",
       "      <td>13</td>\n",
       "      <td>15000000</td>\n",
       "      <td>70000000</td>\n",
       "      <td>1</td>\n",
       "      <td>0</td>\n",
       "    </tr>\n",
       "    <tr>\n",
       "      <th>1</th>\n",
       "      <td>Manchester United</td>\n",
       "      <td>Jack Butland</td>\n",
       "      <td>Goalkeeper</td>\n",
       "      <td>196.0</td>\n",
       "      <td>30.0</td>\n",
       "      <td>15</td>\n",
       "      <td>0.0</td>\n",
       "      <td>0.0</td>\n",
       "      <td>0.069018</td>\n",
       "      <td>0.0</td>\n",
       "      <td>...</td>\n",
       "      <td>1.242331</td>\n",
       "      <td>0.207055</td>\n",
       "      <td>1304</td>\n",
       "      <td>510</td>\n",
       "      <td>58</td>\n",
       "      <td>1</td>\n",
       "      <td>1500000</td>\n",
       "      <td>22000000</td>\n",
       "      <td>1</td>\n",
       "      <td>0</td>\n",
       "    </tr>\n",
       "  </tbody>\n",
       "</table>\n",
       "<p>2 rows × 21 columns</p>\n",
       "</div>"
      ],
      "text/plain": [
       "              Equipo        Nombre    Posicion  Altura  Edad  Apariciones  \\\n",
       "0  Manchester United  David de Gea  Goalkeeper   189.0  32.0          104   \n",
       "1  Manchester United  Jack Butland  Goalkeeper   196.0  30.0           15   \n",
       "\n",
       "   Goles  Asistencias  Tarjetas Amarillas  2da Tarjeta Amarillas  ...  \\\n",
       "0    0.0          0.0            0.009585                    0.0  ...   \n",
       "1    0.0          0.0            0.069018                    0.0  ...   \n",
       "\n",
       "   Goles Concedidos  Valla Invicta  Minutos Jugados  Dias De baja por Lesion  \\\n",
       "0          1.217252       0.335463             9390                       42   \n",
       "1          1.242331       0.207055             1304                      510   \n",
       "\n",
       "   Partidos Perdidos por Lesion  Premios  Valor Actual  Valor Maximo  \\\n",
       "0                             5       13      15000000      70000000   \n",
       "1                            58        1       1500000      22000000   \n",
       "\n",
       "   Posicion Numero  Extremo  \n",
       "0                1        0  \n",
       "1                1        0  \n",
       "\n",
       "[2 rows x 21 columns]"
      ]
     },
     "execution_count": 2,
     "metadata": {},
     "output_type": "execute_result"
    }
   ],
   "source": [
    "# lectura del df\n",
    "df=pd.read_csv(\"./data.csv\")\n",
    "df.head(2)"
   ]
  },
  {
   "cell_type": "markdown",
   "metadata": {},
   "source": [
    "# _Preprocesamiento de Datos._"
   ]
  },
  {
   "cell_type": "code",
   "execution_count": 3,
   "metadata": {},
   "outputs": [
    {
     "name": "stdout",
     "output_type": "stream",
     "text": [
      "Equipo                          0\n",
      "Posicion                        0\n",
      "Altura                          0\n",
      "Edad                            0\n",
      "Apariciones                     0\n",
      "Goles                           0\n",
      "Asistencias                     0\n",
      "Tarjetas Amarillas              0\n",
      "2da Tarjeta Amarillas           0\n",
      "Tarjetas Rojas                  0\n",
      "Goles Concedidos                0\n",
      "Valla Invicta                   0\n",
      "Minutos Jugados                 0\n",
      "Dias De baja por Lesion         0\n",
      "Partidos Perdidos por Lesion    0\n",
      "Premios                         0\n",
      "Valor Actual                    0\n",
      "Valor Maximo                    0\n",
      "Posicion Numero                 0\n",
      "Extremo                         0\n",
      "dtype: int64\n",
      "0\n"
     ]
    }
   ],
   "source": [
    "df_modelo = df.copy()\n",
    "df_modelo.drop(columns=['Nombre'], inplace=True)\n",
    "print(df_modelo.isna().sum())\n",
    "print(df_modelo.duplicated().sum())"
   ]
  },
  {
   "cell_type": "markdown",
   "metadata": {},
   "source": [
    "# _Train-Test Split._"
   ]
  },
  {
   "cell_type": "code",
   "execution_count": 4,
   "metadata": {},
   "outputs": [],
   "source": [
    "# elimino la columna que voy a predecir\n",
    "# separo los los datos de prueba y los a predecir\n",
    "X = df_modelo.drop('Valor Actual', axis=1)\n",
    "y = df_modelo['Valor Actual']\n",
    "X_train, X_test, y_train, y_test = train_test_split(X, y, test_size=0.2, random_state=42)"
   ]
  },
  {
   "cell_type": "markdown",
   "metadata": {},
   "source": [
    "# _Label Encoding._"
   ]
  },
  {
   "cell_type": "code",
   "execution_count": 5,
   "metadata": {},
   "outputs": [],
   "source": [
    "# proceso de encoding\n",
    "encoders = {}\n",
    "cat_features = ['Equipo', 'Posicion']\n",
    "\n",
    "for feature in cat_features:\n",
    "    encoders[feature] = LabelEncoder()\n",
    "    X_train[feature + \"_codificadas\"] = encoders[feature].fit_transform(X_train[feature])\n",
    "    X_test[feature + \"_codificadas\"] = encoders[feature].transform(X_test[feature])"
   ]
  },
  {
   "cell_type": "code",
   "execution_count": 6,
   "metadata": {},
   "outputs": [],
   "source": [
    "# eliminacion de columnas categoricas para  mejor funcionamimento del modelo\n",
    "X_train.drop(columns=['Equipo', 'Posicion'], inplace=True)\n",
    "X_test.drop(columns=['Equipo', 'Posicion'], inplace=True)"
   ]
  },
  {
   "cell_type": "markdown",
   "metadata": {},
   "source": [
    "# _Ingeniería de Atributos._"
   ]
  },
  {
   "cell_type": "code",
   "execution_count": 7,
   "metadata": {},
   "outputs": [],
   "source": [
    "# selecciono las variables que tiene mayor correlacion \n",
    "corr_matrix = pd.concat([X_train, y_train], axis=1).corr()\n",
    "high_corr_features = corr_matrix.index[abs(corr_matrix['Valor Actual']) > 0.5]\n",
    "X_train = X_train[high_corr_features.drop('Valor Actual')]\n",
    "X_test = X_test[high_corr_features.drop('Valor Actual')]"
   ]
  },
  {
   "cell_type": "markdown",
   "metadata": {},
   "source": [
    "# _Preprocesamiento de Datos._"
   ]
  },
  {
   "cell_type": "code",
   "execution_count": 8,
   "metadata": {},
   "outputs": [],
   "source": [
    "# Estandarizo los datos de los conjuntos de entrenamiento \n",
    "scaler = StandardScaler()\n",
    "X_train_scaled = scaler.fit_transform(X_train)\n",
    "X_test_scaled = scaler.transform(X_test)"
   ]
  },
  {
   "cell_type": "markdown",
   "metadata": {},
   "source": [
    "# _Entrenamiento del Modelo._"
   ]
  },
  {
   "cell_type": "code",
   "execution_count": 9,
   "metadata": {},
   "outputs": [
    {
     "data": {
      "text/html": [
       "<style>#sk-container-id-1 {color: black;background-color: white;}#sk-container-id-1 pre{padding: 0;}#sk-container-id-1 div.sk-toggleable {background-color: white;}#sk-container-id-1 label.sk-toggleable__label {cursor: pointer;display: block;width: 100%;margin-bottom: 0;padding: 0.3em;box-sizing: border-box;text-align: center;}#sk-container-id-1 label.sk-toggleable__label-arrow:before {content: \"▸\";float: left;margin-right: 0.25em;color: #696969;}#sk-container-id-1 label.sk-toggleable__label-arrow:hover:before {color: black;}#sk-container-id-1 div.sk-estimator:hover label.sk-toggleable__label-arrow:before {color: black;}#sk-container-id-1 div.sk-toggleable__content {max-height: 0;max-width: 0;overflow: hidden;text-align: left;background-color: #f0f8ff;}#sk-container-id-1 div.sk-toggleable__content pre {margin: 0.2em;color: black;border-radius: 0.25em;background-color: #f0f8ff;}#sk-container-id-1 input.sk-toggleable__control:checked~div.sk-toggleable__content {max-height: 200px;max-width: 100%;overflow: auto;}#sk-container-id-1 input.sk-toggleable__control:checked~label.sk-toggleable__label-arrow:before {content: \"▾\";}#sk-container-id-1 div.sk-estimator input.sk-toggleable__control:checked~label.sk-toggleable__label {background-color: #d4ebff;}#sk-container-id-1 div.sk-label input.sk-toggleable__control:checked~label.sk-toggleable__label {background-color: #d4ebff;}#sk-container-id-1 input.sk-hidden--visually {border: 0;clip: rect(1px 1px 1px 1px);clip: rect(1px, 1px, 1px, 1px);height: 1px;margin: -1px;overflow: hidden;padding: 0;position: absolute;width: 1px;}#sk-container-id-1 div.sk-estimator {font-family: monospace;background-color: #f0f8ff;border: 1px dotted black;border-radius: 0.25em;box-sizing: border-box;margin-bottom: 0.5em;}#sk-container-id-1 div.sk-estimator:hover {background-color: #d4ebff;}#sk-container-id-1 div.sk-parallel-item::after {content: \"\";width: 100%;border-bottom: 1px solid gray;flex-grow: 1;}#sk-container-id-1 div.sk-label:hover label.sk-toggleable__label {background-color: #d4ebff;}#sk-container-id-1 div.sk-serial::before {content: \"\";position: absolute;border-left: 1px solid gray;box-sizing: border-box;top: 0;bottom: 0;left: 50%;z-index: 0;}#sk-container-id-1 div.sk-serial {display: flex;flex-direction: column;align-items: center;background-color: white;padding-right: 0.2em;padding-left: 0.2em;position: relative;}#sk-container-id-1 div.sk-item {position: relative;z-index: 1;}#sk-container-id-1 div.sk-parallel {display: flex;align-items: stretch;justify-content: center;background-color: white;position: relative;}#sk-container-id-1 div.sk-item::before, #sk-container-id-1 div.sk-parallel-item::before {content: \"\";position: absolute;border-left: 1px solid gray;box-sizing: border-box;top: 0;bottom: 0;left: 50%;z-index: -1;}#sk-container-id-1 div.sk-parallel-item {display: flex;flex-direction: column;z-index: 1;position: relative;background-color: white;}#sk-container-id-1 div.sk-parallel-item:first-child::after {align-self: flex-end;width: 50%;}#sk-container-id-1 div.sk-parallel-item:last-child::after {align-self: flex-start;width: 50%;}#sk-container-id-1 div.sk-parallel-item:only-child::after {width: 0;}#sk-container-id-1 div.sk-dashed-wrapped {border: 1px dashed gray;margin: 0 0.4em 0.5em 0.4em;box-sizing: border-box;padding-bottom: 0.4em;background-color: white;}#sk-container-id-1 div.sk-label label {font-family: monospace;font-weight: bold;display: inline-block;line-height: 1.2em;}#sk-container-id-1 div.sk-label-container {text-align: center;}#sk-container-id-1 div.sk-container {/* jupyter's `normalize.less` sets `[hidden] { display: none; }` but bootstrap.min.css set `[hidden] { display: none !important; }` so we also need the `!important` here to be able to override the default hidden behavior on the sphinx rendered scikit-learn.org. See: https://github.com/scikit-learn/scikit-learn/issues/21755 */display: inline-block !important;position: relative;}#sk-container-id-1 div.sk-text-repr-fallback {display: none;}</style><div id=\"sk-container-id-1\" class=\"sk-top-container\"><div class=\"sk-text-repr-fallback\"><pre>RandomForestRegressor(n_estimators=150, random_state=42)</pre><b>In a Jupyter environment, please rerun this cell to show the HTML representation or trust the notebook. <br />On GitHub, the HTML representation is unable to render, please try loading this page with nbviewer.org.</b></div><div class=\"sk-container\" hidden><div class=\"sk-item\"><div class=\"sk-estimator sk-toggleable\"><input class=\"sk-toggleable__control sk-hidden--visually\" id=\"sk-estimator-id-1\" type=\"checkbox\" checked><label for=\"sk-estimator-id-1\" class=\"sk-toggleable__label sk-toggleable__label-arrow\">RandomForestRegressor</label><div class=\"sk-toggleable__content\"><pre>RandomForestRegressor(n_estimators=150, random_state=42)</pre></div></div></div></div></div>"
      ],
      "text/plain": [
       "RandomForestRegressor(n_estimators=150, random_state=42)"
      ]
     },
     "execution_count": 9,
     "metadata": {},
     "output_type": "execute_result"
    }
   ],
   "source": [
    "# creo y entrego el modelo\n",
    "rf_reg = RandomForestRegressor(n_estimators=150, random_state=42)\n",
    "rf_reg.fit(X_train_scaled, y_train)"
   ]
  },
  {
   "cell_type": "markdown",
   "metadata": {},
   "source": [
    "# _Evaluación del Modelo._"
   ]
  },
  {
   "cell_type": "code",
   "execution_count": 10,
   "metadata": {},
   "outputs": [
    {
     "name": "stdout",
     "output_type": "stream",
     "text": [
      "Puntuaciones de validación cruzada R^2: [0.55924621 0.68871506 0.76087967 0.64293305 0.67118397]\n",
      "Puntuación media de validación cruzada R^2: 0.6645915942196717\n"
     ]
    }
   ],
   "source": [
    "# se controla el rendimiento del moddelo y se analiza \n",
    "cv_scores = cross_val_score(rf_reg, X_train_scaled, y_train, cv=5, scoring='r2')\n",
    "print(f\"Puntuaciones de validación cruzada R^2: {cv_scores}\")\n",
    "print(f\"Puntuación media de validación cruzada R^2: {np.mean(cv_scores)}\")"
   ]
  },
  {
   "cell_type": "markdown",
   "metadata": {},
   "source": [
    "# _Predicciones y evaluación en el conjunto de prueba._"
   ]
  },
  {
   "cell_type": "code",
   "execution_count": 11,
   "metadata": {},
   "outputs": [
    {
     "name": "stdout",
     "output_type": "stream",
     "text": [
      "Puntuación R^2 en conjunto de prueba: 0.7255144348221759\n"
     ]
    }
   ],
   "source": [
    "# se realizan las predicciones\n",
    "y_pred = rf_reg.predict(X_test_scaled)\n",
    "r2_score_test = r2_score(y_test, y_pred)\n",
    "print(f\"Puntuación R^2 en conjunto de prueba: {r2_score_test}\")"
   ]
  },
  {
   "cell_type": "markdown",
   "metadata": {},
   "source": [
    "# _Visualizacion._"
   ]
  },
  {
   "cell_type": "code",
   "execution_count": 12,
   "metadata": {},
   "outputs": [
    {
     "data": {
      "image/png": "[encoded data removed]",
      "text/plain": [
       "<Figure size 1000x600 with 1 Axes>"
      ]
     },
     "metadata": {},
     "output_type": "display_data"
    }
   ],
   "source": [
    "# visualizacion de las predicciones \n",
    "plt.figure(figsize=(10, 6))\n",
    "plt.scatter(y_test, y_test, color='red', label='Valores Reales')\n",
    "plt.scatter(y_test, y_pred, color='blue', label='Predicciones')\n",
    "plt.plot([y_test.min(), y_test.max()], [y_test.min(), y_test.max()], color='gray', linestyle='--')\n",
    "plt.xlabel('Valor Real')\n",
    "plt.ylabel('Predicción')\n",
    "plt.title('Predicciones vs Valores Reales')\n",
    "plt.legend()\n",
    "plt.grid(True)\n",
    "plt.show()"
   ]
  },
  {
   "cell_type": "markdown",
   "metadata": {},
   "source": [
    "# _Apreciaciones._"
   ]
  },
  {
   "cell_type": "markdown",
   "metadata": {},
   "source": [
    "* _Puntuación R^2 en el conjunto de prueba es aproximadamente 0.73._\n",
    "* _Esto significa que alrededor del 73% de la variabilidad en los valores reales se puede predecir\n",
    "  a partir de las características utilizadas por el modelo._\n",
    "* _Buen ajuste a los datos observados en el conjunto de prueba._\n",
    "* _La puntuación media de validación cruzada R^2 es aproximadamente 0.66._\n",
    "* _Buena prediccion al inicio, pero cuando aumente el valor, baja la misma._"
   ]
  },
  {
   "cell_type": "markdown",
   "id": "ac091656",
   "metadata": {},
   "source": [
    "\n",
    "# Creación de Variables Sintéticas Adicionales"
   ]
  },
  {
   "cell_type": "code",
   "execution_count": 14,
   "id": "65d3db1e",
   "metadata": {},
   "outputs": [
    {
     "data": {
      "text/html": [
       "<div>\n",
       "<style scoped>\n",
       "    .dataframe tbody tr th:only-of-type {\n",
       "        vertical-align: middle;\n",
       "    }\n",
       "\n",
       "    .dataframe tbody tr th {\n",
       "        vertical-align: top;\n",
       "    }\n",
       "\n",
       "    .dataframe thead th {\n",
       "        text-align: right;\n",
       "    }\n",
       "</style>\n",
       "<table border=\"1\" class=\"dataframe\">\n",
       "  <thead>\n",
       "    <tr style=\"text-align: right;\">\n",
       "      <th></th>\n",
       "      <th>Equipo</th>\n",
       "      <th>Nombre</th>\n",
       "      <th>Posicion</th>\n",
       "      <th>Altura</th>\n",
       "      <th>Edad</th>\n",
       "      <th>Apariciones</th>\n",
       "      <th>Goles</th>\n",
       "      <th>Asistencias</th>\n",
       "      <th>Tarjetas Amarillas</th>\n",
       "      <th>2da Tarjeta Amarillas</th>\n",
       "      <th>...</th>\n",
       "      <th>Dias De baja por Lesion</th>\n",
       "      <th>Partidos Perdidos por Lesion</th>\n",
       "      <th>Premios</th>\n",
       "      <th>Valor Actual</th>\n",
       "      <th>Valor Maximo</th>\n",
       "      <th>Posicion Numero</th>\n",
       "      <th>Extremo</th>\n",
       "      <th>Goles_por_Aparicion</th>\n",
       "      <th>Asistencias_por_Aparicion</th>\n",
       "      <th>Proporcion_Valor</th>\n",
       "    </tr>\n",
       "  </thead>\n",
       "  <tbody>\n",
       "    <tr>\n",
       "      <th>0</th>\n",
       "      <td>Manchester United</td>\n",
       "      <td>David de Gea</td>\n",
       "      <td>Goalkeeper</td>\n",
       "      <td>189.0</td>\n",
       "      <td>32.0</td>\n",
       "      <td>104</td>\n",
       "      <td>0.0</td>\n",
       "      <td>0.0</td>\n",
       "      <td>0.009585</td>\n",
       "      <td>0.0</td>\n",
       "      <td>...</td>\n",
       "      <td>42</td>\n",
       "      <td>5</td>\n",
       "      <td>13</td>\n",
       "      <td>15000000</td>\n",
       "      <td>70000000</td>\n",
       "      <td>1</td>\n",
       "      <td>0</td>\n",
       "      <td>0.0</td>\n",
       "      <td>0.0</td>\n",
       "      <td>0.214286</td>\n",
       "    </tr>\n",
       "    <tr>\n",
       "      <th>1</th>\n",
       "      <td>Manchester United</td>\n",
       "      <td>Jack Butland</td>\n",
       "      <td>Goalkeeper</td>\n",
       "      <td>196.0</td>\n",
       "      <td>30.0</td>\n",
       "      <td>15</td>\n",
       "      <td>0.0</td>\n",
       "      <td>0.0</td>\n",
       "      <td>0.069018</td>\n",
       "      <td>0.0</td>\n",
       "      <td>...</td>\n",
       "      <td>510</td>\n",
       "      <td>58</td>\n",
       "      <td>1</td>\n",
       "      <td>1500000</td>\n",
       "      <td>22000000</td>\n",
       "      <td>1</td>\n",
       "      <td>0</td>\n",
       "      <td>0.0</td>\n",
       "      <td>0.0</td>\n",
       "      <td>0.068182</td>\n",
       "    </tr>\n",
       "  </tbody>\n",
       "</table>\n",
       "<p>2 rows × 24 columns</p>\n",
       "</div>"
      ],
      "text/plain": [
       "              Equipo        Nombre    Posicion  Altura  Edad  Apariciones  \\\n",
       "0  Manchester United  David de Gea  Goalkeeper   189.0  32.0          104   \n",
       "1  Manchester United  Jack Butland  Goalkeeper   196.0  30.0           15   \n",
       "\n",
       "   Goles  Asistencias  Tarjetas Amarillas  2da Tarjeta Amarillas  ...  \\\n",
       "0    0.0          0.0            0.009585                    0.0  ...   \n",
       "1    0.0          0.0            0.069018                    0.0  ...   \n",
       "\n",
       "   Dias De baja por Lesion  Partidos Perdidos por Lesion  Premios  \\\n",
       "0                       42                             5       13   \n",
       "1                      510                            58        1   \n",
       "\n",
       "   Valor Actual  Valor Maximo  Posicion Numero  Extremo  Goles_por_Aparicion  \\\n",
       "0      15000000      70000000                1        0                  0.0   \n",
       "1       1500000      22000000                1        0                  0.0   \n",
       "\n",
       "   Asistencias_por_Aparicion  Proporcion_Valor  \n",
       "0                        0.0          0.214286  \n",
       "1                        0.0          0.068182  \n",
       "\n",
       "[2 rows x 24 columns]"
      ]
     },
     "execution_count": 14,
     "metadata": {},
     "output_type": "execute_result"
    }
   ],
   "source": [
    "# Leer el DataFrame\n",
    "df = pd.read_csv('./data.csv')\n",
    "\n",
    "# Crear una pequeña constante para evitar la división por cero\n",
    "small_constant = 1e-5\n",
    "\n",
    "# Creacion de variables sintéticas  centradas en el valor del jugador\n",
    "df['Goles_por_Aparicion'] = df['Goles'] / (df['Apariciones'] + small_constant)\n",
    "df['Asistencias_por_Aparicion'] = df['Asistencias'] / (df['Apariciones'] + small_constant)\n",
    "df['Proporcion_Valor'] = df['Valor Actual'] / df['Valor Maximo']\n",
    "\n",
    "# Llenar valores nulos resultantes de divisiones por cero\n",
    "df.replace([np.inf, -np.inf], np.nan, inplace=True)\n",
    "df.fillna(0, inplace=True)\n",
    "\n",
    "# Mostrar las primeras filas del DataFrame para verificar las nuevas variables\n",
    "df.head(2)\n",
    "\n"
   ]
  },
  {
   "cell_type": "markdown",
   "id": "feb61c29",
   "metadata": {},
   "source": [
    "# Prueba de Distintos Modelos de ML"
   ]
  },
  {
   "cell_type": "code",
   "execution_count": 15,
   "metadata": {},
   "outputs": [
    {
     "data": {
      "text/plain": [
       "{'Linear Regression': 0.7663902672207179,\n",
       " 'Decision Tree': 0.9771641913870951,\n",
       " 'Random Forest': 0.9842657190291215}"
      ]
     },
     "execution_count": 15,
     "metadata": {},
     "output_type": "execute_result"
    }
   ],
   "source": [
    "# Separar las características y la variable objetivo\n",
    "X = df.drop(['Valor Actual', 'Nombre', 'Equipo', 'Posicion'], axis=1)\n",
    "y = df['Valor Actual']\n",
    "\n",
    "# Dividir los datos en conjuntos de entrenamiento y prueba\n",
    "X_train, X_test, y_train, y_test = train_test_split(X, y, test_size=0.2, random_state=42)\n",
    "\n",
    "# Escalar las características\n",
    "scaler = StandardScaler()\n",
    "X_train_scaled = scaler.fit_transform(X_train)\n",
    "X_test_scaled = scaler.transform(X_test)\n",
    "\n",
    "# Definir los modelos a probar\n",
    "models = {\n",
    "    'Linear Regression': LinearRegression(),\n",
    "    'Decision Tree': DecisionTreeRegressor(),\n",
    "    'Random Forest': RandomForestRegressor()\n",
    "}\n",
    "\n",
    "# Evaluar los modelos utilizando validación cruzada\n",
    "results = {}\n",
    "for model_name, model in models.items():\n",
    "    scores = cross_val_score(model, X_train_scaled, y_train, cv=5, scoring='r2')\n",
    "    results[model_name] = scores.mean()\n",
    "\n",
    "# Mostrar los resultados\n",
    "results\n"
   ]
  },
  {
   "cell_type": "markdown",
   "id": "6819b4e1",
   "metadata": {},
   "source": [
    "\n",
    "# Análisis de Componentes Principales (PCA)"
   ]
  },
  {
   "cell_type": "code",
   "execution_count": 17,
   "id": "6fd8c4ef",
   "metadata": {},
   "outputs": [
    {
     "name": "stdout",
     "output_type": "stream",
     "text": [
      "Varianza: [0.15985442 0.12739014]\n",
      "Cargas de los primeros dos componentes:\n"
     ]
    },
    {
     "data": {
      "text/html": [
       "<div>\n",
       "<style scoped>\n",
       "    .dataframe tbody tr th:only-of-type {\n",
       "        vertical-align: middle;\n",
       "    }\n",
       "\n",
       "    .dataframe tbody tr th {\n",
       "        vertical-align: top;\n",
       "    }\n",
       "\n",
       "    .dataframe thead th {\n",
       "        text-align: right;\n",
       "    }\n",
       "</style>\n",
       "<table border=\"1\" class=\"dataframe\">\n",
       "  <thead>\n",
       "    <tr style=\"text-align: right;\">\n",
       "      <th></th>\n",
       "      <th>Altura</th>\n",
       "      <th>Edad</th>\n",
       "      <th>Apariciones</th>\n",
       "      <th>Goles</th>\n",
       "      <th>Asistencias</th>\n",
       "      <th>Tarjetas Amarillas</th>\n",
       "      <th>2da Tarjeta Amarillas</th>\n",
       "      <th>Tarjetas Rojas</th>\n",
       "      <th>Goles Concedidos</th>\n",
       "      <th>Valla Invicta</th>\n",
       "      <th>Minutos Jugados</th>\n",
       "      <th>Dias De baja por Lesion</th>\n",
       "      <th>Partidos Perdidos por Lesion</th>\n",
       "      <th>Premios</th>\n",
       "      <th>Valor Maximo</th>\n",
       "      <th>Posicion Numero</th>\n",
       "      <th>Extremo</th>\n",
       "      <th>Goles_por_Aparicion</th>\n",
       "      <th>Asistencias_por_Aparicion</th>\n",
       "      <th>Proporcion_Valor</th>\n",
       "    </tr>\n",
       "  </thead>\n",
       "  <tbody>\n",
       "    <tr>\n",
       "      <th>PC1</th>\n",
       "      <td>0.038304</td>\n",
       "      <td>0.316711</td>\n",
       "      <td>0.327629</td>\n",
       "      <td>0.095715</td>\n",
       "      <td>0.103394</td>\n",
       "      <td>0.000544</td>\n",
       "      <td>0.004733</td>\n",
       "      <td>-0.013705</td>\n",
       "      <td>-0.056753</td>\n",
       "      <td>-0.029285</td>\n",
       "      <td>0.309484</td>\n",
       "      <td>0.392277</td>\n",
       "      <td>0.412576</td>\n",
       "      <td>0.354234</td>\n",
       "      <td>0.360294</td>\n",
       "      <td>0.064588</td>\n",
       "      <td>0.002081</td>\n",
       "      <td>0.000935</td>\n",
       "      <td>-0.002299</td>\n",
       "      <td>-0.295618</td>\n",
       "    </tr>\n",
       "    <tr>\n",
       "      <th>PC2</th>\n",
       "      <td>-0.348319</td>\n",
       "      <td>-0.189625</td>\n",
       "      <td>0.112604</td>\n",
       "      <td>0.351098</td>\n",
       "      <td>0.359117</td>\n",
       "      <td>0.055057</td>\n",
       "      <td>0.013659</td>\n",
       "      <td>-0.011621</td>\n",
       "      <td>-0.387061</td>\n",
       "      <td>-0.183579</td>\n",
       "      <td>0.027537</td>\n",
       "      <td>-0.090110</td>\n",
       "      <td>-0.086822</td>\n",
       "      <td>-0.019756</td>\n",
       "      <td>0.062178</td>\n",
       "      <td>0.472535</td>\n",
       "      <td>0.239177</td>\n",
       "      <td>0.186209</td>\n",
       "      <td>0.177587</td>\n",
       "      <td>0.153469</td>\n",
       "    </tr>\n",
       "  </tbody>\n",
       "</table>\n",
       "</div>"
      ],
      "text/plain": [
       "       Altura      Edad  Apariciones     Goles  Asistencias  \\\n",
       "PC1  0.038304  0.316711     0.327629  0.095715     0.103394   \n",
       "PC2 -0.348319 -0.189625     0.112604  0.351098     0.359117   \n",
       "\n",
       "     Tarjetas Amarillas  2da Tarjeta Amarillas  Tarjetas Rojas  \\\n",
       "PC1            0.000544               0.004733       -0.013705   \n",
       "PC2            0.055057               0.013659       -0.011621   \n",
       "\n",
       "     Goles Concedidos  Valla Invicta  Minutos Jugados  \\\n",
       "PC1         -0.056753      -0.029285         0.309484   \n",
       "PC2         -0.387061      -0.183579         0.027537   \n",
       "\n",
       "     Dias De baja por Lesion  Partidos Perdidos por Lesion   Premios  \\\n",
       "PC1                 0.392277                      0.412576  0.354234   \n",
       "PC2                -0.090110                     -0.086822 -0.019756   \n",
       "\n",
       "     Valor Maximo  Posicion Numero   Extremo  Goles_por_Aparicion  \\\n",
       "PC1      0.360294         0.064588  0.002081             0.000935   \n",
       "PC2      0.062178         0.472535  0.239177             0.186209   \n",
       "\n",
       "     Asistencias_por_Aparicion  Proporcion_Valor  \n",
       "PC1                  -0.002299         -0.295618  \n",
       "PC2                   0.177587          0.153469  "
      ]
     },
     "execution_count": 17,
     "metadata": {},
     "output_type": "execute_result"
    }
   ],
   "source": [
    "# Realizar PCA\n",
    "pca = PCA(n_components=2)\n",
    "X_pca = pca.fit_transform(X_train_scaled)\n",
    "\n",
    "# Mostrar la varianza explicada por cada componente\n",
    "explained_variance = pca.explained_variance_ratio_\n",
    "print(\"Varianza:\", explained_variance)\n",
    "\n",
    "# Mostrar las cargas de los primeros dos componentes\n",
    "pca_components = pd.DataFrame(pca.components_, columns=X.columns, index=['PC1', 'PC2'])\n",
    "print(\"Cargas de los primeros dos componentes:\")\n",
    "pca_components"
   ]
  },
  {
   "cell_type": "markdown",
   "metadata": {},
   "source": [
    "#   1. Creación de Variables Sintéticas\n",
    "*   Se crearon variables sintéticas adicionales para mejorar el desempeño del modelo. Estas variables incluyeron Goles_por_Aparicion, Asistencias_por_Aparicion y Proporcion_Valor, que proporcionaron información adicional sobre la eficiencia y el valor del jugador.\n",
    "\n",
    "#   2. Prueba de Distintos Modelos de ML\n",
    "*   Se probaron varios modelos de Machine Learning, incluyendo Regresión Lineal, Árbol de Decisión y Random Forest. Los modelos fueron evaluados utilizando validación cruzada, lo que aseguró que los resultados fueran consistentes y fiables. El modelo de Random Forest obtuvo el mejor desempeño con un R^2 de 0.99, indicando que es el más adecuado para predecir el valor del jugador en este conjunto de datos.\n",
    "\n",
    "#   3. Análisis de Componentes Principales (PCA)\n",
    "*   Se realizó un Análisis de Componentes Principales (PCA) para reducir la dimensionalidad del conjunto de datos. Los dos primeros componentes principales explicaron aproximadamente el 28% de la varianza total en los datos. "
   ]
  },
  {
   "cell_type": "markdown",
   "metadata": {},
   "source": [
    "# Continuacion de entrega 14\n",
    "\n",
    "# Desafio Crossvalidation -Entrega 15\n"
   ]
  },
  {
   "cell_type": "code",
   "execution_count": 18,
   "metadata": {},
   "outputs": [
    {
     "name": "stdout",
     "output_type": "stream",
     "text": [
      "Puntuaciones de validación cruzada: [0.96912527 0.99045674 0.97295646 0.99201065 0.99281492 0.99475835\n",
      " 0.99514544 0.99417491 0.95275939 0.99349357]\n",
      "Media de puntuaciones: 0.9847695696531666\n"
     ]
    }
   ],
   "source": [
    "\n",
    "# Crear y entrenar el modelo utilizando validación cruzada\n",
    "model = RandomForestRegressor(random_state=42)\n",
    "cv_scores = cross_val_score(model, X_train, y_train, cv=10)\n",
    "\n",
    "# Mostrar los resultados de la validación cruzada\n",
    "print('Puntuaciones de validación cruzada:', cv_scores)\n",
    "print('Media de puntuaciones:', np.mean(cv_scores))"
   ]
  },
  {
   "cell_type": "code",
   "execution_count": 19,
   "metadata": {},
   "outputs": [
    {
     "name": "stdout",
     "output_type": "stream",
     "text": [
      "Score sin validación cruzada: 0.9858281715091445\n",
      "Score con validación cruzada (media): 0.9847695696531666\n"
     ]
    }
   ],
   "source": [
    "# Entrenamiento del modelo sin validación cruzada\n",
    "model.fit(X_train, y_train)\n",
    "score_sin_cv = model.score(X_test, y_test)\n",
    "\n",
    "# Resultados\n",
    "print('Score sin validación cruzada:', score_sin_cv)\n",
    "print('Score con validación cruzada (media):', np.mean(cv_scores))"
   ]
  },
  {
   "cell_type": "markdown",
   "metadata": {},
   "source": [
    "### Análisis de Resultados\n",
    "\n",
    "Podemos observar que la puntuación del modelo con validación cruzada es 0.9847695696531666,\n",
    "mientras que la puntuación del modelo sin validación cruzada es 0.9858281715091445.\n",
    "Aunque ambas puntuaciones son muy cercanas y altas, indicando un buen desempeño del modelo, hay algunas diferencias sutiles que deben diferenciarse.\n",
    "\n",
    "#### Descripción de los Cambios en el Performance del Modelo\n",
    "\n",
    "1. **Score sin Validación Cruzada**: 0.9858281715091445\n",
    "   - Este valor representa la precisión del modelo cuando se entrena y prueba en los conjuntos de datos de entrenamiento y prueba respectivos, sin aplicar técnicas adicionales para verificar su robustez.\n",
    "   - Al no utilizar validación cruzada, el modelo puede estar sobreajustado a los datos de entrenamiento, lo que puede resultar en una puntuación ligeramente mejor pero menos generalizable.\n",
    "\n",
    "2. **Score con Validación Cruzada (Media)**: 0.9847695696531666\n",
    "   - Este valor representa la media de las puntuaciones obtenidas a través de 10 folds en la validación cruzada.\n",
    "   - La validación cruzada proporciona una evaluación más robusta y fiable del rendimiento del modelo al dividir los datos en múltiples subconjuntos y probar el modelo en diferentes particiones.\n",
    "   - Aunque la puntuación es ligeramente inferior a la obtenida sin validación cruzada, es más representativa del desempeño del modelo en datos no vistos y, por lo tanto, es preferible para evaluar la capacidad de generalización del modelo.\n"
   ]
  },
  {
   "cell_type": "markdown",
   "metadata": {},
   "source": [
    "*   _La validación cruzada muestra una ligera disminución en la puntuación (de 0.9858 a 0.9847), lo que indica que el modelo sin validación cruzada podría estar ligeramente sobreajustado. La validación cruzada asegura que el modelo generaliza mejor a nuevos datos, capturando la variabilidad y reduciendo el sesgo en la evaluación. Esto confirma que la validación cruzada es muy important para obtener una evaluación más fiable y robusta del modelo._"
   ]
  }
 ],
 "metadata": {
  "kernelspec": {
   "display_name": "Python 3",
   "language": "python",
   "name": "python3"
  },
  "language_info": {
   "codemirror_mode": {
    "name": "ipython",
    "version": 3
   },
   "file_extension": ".py",
   "mimetype": "text/x-python",
   "name": "python",
   "nbconvert_exporter": "python",
   "pygments_lexer": "ipython3",
   "version": "3.11.1"
  }
 },
 "nbformat": 4,
 "nbformat_minor": 2
}
